{
 "cells": [
  {
   "cell_type": "code",
   "execution_count": 1,
   "metadata": {},
   "outputs": [],
   "source": [
    "import os\n",
    "import sys\n",
    "from matplotlib import rcParams\n",
    "import numpy as np\n",
    "\n",
    "from ai.new_zonotope import HybridZonotope\n",
    "import torch\n",
    "import matplotlib.pyplot as plt\n",
    "import time"
   ]
  },
  {
   "cell_type": "code",
   "execution_count": 2,
   "metadata": {},
   "outputs": [],
   "source": [
    "# font = {'family' : 'normal',\n",
    "#         'size'   : 14}\n",
    "rcParams['pdf.fonttype'] = 42\n",
    "rcParams['ps.fonttype'] = 42\n",
    "rcParams['font.family'] = 'serif'\n",
    "rcParams['font.sans-serif'] = ['Palatio']\n",
    "rcParams['text.usetex'] = True\n",
    "\n",
    "fontsize = 18 #adjust\n",
    "\n",
    "#plt.rc('font', **font)\n",
    "# figure_path = \"../../smoothing-ensemble-paper/figure_archive/\""
   ]
  },
  {
   "cell_type": "code",
   "execution_count": 3,
   "metadata": {},
   "outputs": [],
   "source": [
    "def step(x, A):\n",
    "    h = (-1*x*x*A)+1\n",
    "    x = x + x * (0.5 * h + 0.375 * h * h)\n",
    "    return x"
   ]
  },
  {
   "cell_type": "code",
   "execution_count": 4,
   "outputs": [],
   "source": [
    "def check(x, A, eps):\n",
    "    lb_res, ub_res = (x*x - A.concretize_into_box().reciprocal()).concretize()\n",
    "    return ub_res > - eps if lb_res<0 else lb_res <= eps"
   ],
   "metadata": {
    "collapsed": false
   }
  },
  {
   "cell_type": "code",
   "execution_count": 5,
   "metadata": {},
   "outputs": [],
   "source": [
    "dtype = torch.float64"
   ]
  },
  {
   "cell_type": "markdown",
   "metadata": {},
   "source": [
    "## Householder's Method [16,20]"
   ]
  },
  {
   "cell_type": "code",
   "execution_count": 6,
   "outputs": [],
   "source": [
    "A_rng = [16, 20]\n",
    "x0 = 2**(-3)\n",
    "eps = 1e-6"
   ],
   "metadata": {
    "collapsed": false
   }
  },
  {
   "cell_type": "code",
   "execution_count": 7,
   "outputs": [],
   "source": [
    "A = A_rng[0]\n",
    "x = x0\n",
    "\n",
    "lb_e = [1/x0]\n",
    "\n",
    "for i in range(50):\n",
    "    x = step(x, A)\n",
    "    lb_e.append(1/x)\n",
    "\n",
    "A = A_rng[1]\n",
    "x = x0\n",
    "\n",
    "ub_e = [x0]\n",
    "\n",
    "for i in range(50):\n",
    "    x = step(x, A)\n",
    "    ub_e.append(1/x)"
   ],
   "metadata": {
    "collapsed": false
   }
  },
  {
   "cell_type": "code",
   "execution_count": 8,
   "outputs": [
    {
     "name": "stdout",
     "output_type": "stream",
     "text": [
      "Input range [16.00, 20.00]\n",
      "Init range [8.00, 8.00]\n",
      "root1 (tensor([[5.04433537]]), tensor([[5.26097775]]))\n",
      "root2 (tensor([[4.07547569]]), tensor([[4.52015209]]))\n",
      "root3 (tensor([[3.98864937]]), tensor([[4.49312496]]))\n",
      "root4 (tensor([[3.98410249]]), tensor([[4.49316978]]))\n",
      "root5 (tensor([[3.98345995]]), tensor([[4.49320841]]))\n",
      "root6 (tensor([[3.98336363]]), tensor([[4.49321413]]))\n",
      "root7 (tensor([[3.98334980]]), tensor([[4.49321461]]))\n",
      "root8 (tensor([[3.98334765]]), tensor([[4.49321461]]))\n",
      "root9 (tensor([[3.98334694]]), tensor([[4.49321461]]))\n",
      "root10 (tensor([[3.98334694]]), tensor([[4.49321461]]))\n",
      "(tensor([[0.22255779]], dtype=torch.float64), tensor([[0.25104515]], dtype=torch.float64))\n",
      "(tensor([[0.22255779]], dtype=torch.float64), tensor([[0.25104516]], dtype=torch.float64))\n",
      "x10 in x9 -> break\n"
     ]
    }
   ],
   "source": [
    "### CRAFT for Householder\n",
    "torch.set_printoptions(precision=8)\n",
    "\n",
    "x = HybridZonotope.construct_from_bounds(torch.tensor([[x0]]), torch.tensor([[x0]]), domain='zono', dtype=dtype)\n",
    "A = HybridZonotope.construct_from_bounds(torch.tensor([[A_rng[0]]]), torch.tensor([[A_rng[1]]]), domain='zono', dtype=dtype)\n",
    "\n",
    "lbs, ubs = [1/x.concretize()[0].item()], [1/x.concretize()[1].item()]\n",
    "\n",
    "print(f\"Input range [{A.concretize()[0].item():.2f}, {A.concretize()[1].item():.2f}]\")\n",
    "\n",
    "print(f\"Init range [{1/x.concretize()[0].item():.2f}, {1/x.concretize()[1].item():.2f}]\")\n",
    "\n",
    "\n",
    "for i in range(50):\n",
    "    xnew = step(x, A)\n",
    "    lb, ub = xnew.concretize()\n",
    "    root = x.concretize_into_box()#.reciprocal()\n",
    "    lbs.append(1/xnew.concretize()[0].item())\n",
    "    ubs.append(1/xnew.concretize()[1].item())\n",
    "    root_new = xnew.concretize_into_box()#.reciprocal()\n",
    "    print(f\"root{i+1}\", xnew.concretize_into_box().reciprocal().concretize())\n",
    "    cont, _ = root.can_contain(root_new)\n",
    "    if cont:\n",
    "        print(x.concretize())\n",
    "        print(xnew.concretize())\n",
    "        print(f\"x{i+1} in x{i} -> break\" )\n",
    "        break\n",
    "    x = xnew\n",
    "\n",
    "lb_craft = lbs\n",
    "ub_craft = ubs"
   ],
   "metadata": {
    "collapsed": false
   }
  },
  {
   "cell_type": "code",
   "execution_count": 9,
   "outputs": [
    {
     "name": "stdout",
     "output_type": "stream",
     "text": [
      "joined: False, check: False, root1: (tensor([[5.04433537]]), tensor([[5.26097775]]))\n",
      "joined: False, check: False, root2: (tensor([[4.07547569]]), tensor([[4.52015209]]))\n",
      "joined: True, check: True, root3: (tensor([[3.98864937]]), tensor([[4.52015209]]))\n",
      "joined: True, check: True, root4: (tensor([[3.87006664]]), tensor([[4.52015209]]))\n",
      "joined: True, check: True, root5: (tensor([[3.81439662]]), tensor([[4.52015209]]))\n",
      "joined: True, check: True, root6: (tensor([[3.78435993]]), tensor([[4.52015209]]))\n",
      "joined: True, check: True, root7: (tensor([[3.76688099]]), tensor([[4.52015209]]))\n",
      "joined: True, check: True, root8: (tensor([[3.75627589]]), tensor([[4.52015209]]))\n",
      "joined: True, check: True, root9: (tensor([[3.74967957]]), tensor([[4.52015209]]))\n",
      "joined: True, check: True, root10: (tensor([[3.74551487]]), tensor([[4.52015209]]))\n",
      "joined: True, check: True, root11: (tensor([[3.74286008]]), tensor([[4.52015209]]))\n",
      "joined: True, check: True, root12: (tensor([[3.74115825]]), tensor([[4.52015209]]))\n",
      "joined: True, check: True, root13: (tensor([[3.74006200]]), tensor([[4.52015209]]))\n",
      "joined: True, check: True, root14: (tensor([[3.73935509]]), tensor([[4.52015209]]))\n",
      "joined: True, check: True, root15: (tensor([[3.73889828]]), tensor([[4.52015209]]))\n",
      "joined: True, check: True, root16: (tensor([[3.73860264]]), tensor([[4.52015209]]))\n",
      "joined: True, check: True, root17: (tensor([[3.73841095]]), tensor([[4.52015209]]))\n",
      "joined: True, check: True, root18: (tensor([[3.73828697]]), tensor([[4.52015209]]))\n",
      "joined: True, check: True, root19: (tensor([[3.73820686]]), tensor([[4.52015209]]))\n",
      "joined: True, check: True, root20: (tensor([[3.73815536]]), tensor([[4.52015209]]))\n",
      "joined: True, check: True, root21: (tensor([[3.73812175]]), tensor([[4.52015209]]))\n",
      "joined: True, check: True, root22: (tensor([[3.73809910]]), tensor([[4.52015209]]))\n",
      "joined: True, check: True, root23: (tensor([[3.73808551]]), tensor([[4.52015209]]))\n",
      "joined: True, check: True, root24: (tensor([[3.73807621]]), tensor([[4.52015209]]))\n",
      "joined: True, check: True, root25: (tensor([[3.73807049]]), tensor([[4.52015209]]))\n",
      "joined: True, check: True, root26: (tensor([[3.73806667]]), tensor([[4.52015209]]))\n",
      "joined: True, check: True, root27: (tensor([[3.73806381]]), tensor([[4.52015209]]))\n",
      "joined: True, check: True, root28: (tensor([[3.73806262]]), tensor([[4.52015209]]))\n",
      "joined: True, check: True, root29: (tensor([[3.73806095]]), tensor([[4.52015209]]))\n",
      "joined: True, check: True, root30: (tensor([[3.73806095]]), tensor([[4.52015209]]))\n",
      "joined: True, check: True, root31: (tensor([[3.73806000]]), tensor([[4.52015209]]))\n",
      "joined: True, check: True, root32: (tensor([[3.73806000]]), tensor([[4.52015209]]))\n",
      "joined: True, check: True, root33: (tensor([[3.73806000]]), tensor([[4.52015209]]))\n",
      "(tensor([[0.22123149]], dtype=torch.float64), tensor([[0.26751846]], dtype=torch.float64))\n",
      "(tensor([[0.22123149]], dtype=torch.float64), tensor([[0.26751847]], dtype=torch.float64))\n",
      "x33 in x32 -> break\n"
     ]
    }
   ],
   "source": [
    "### Kleene for Householder\n",
    "\n",
    "torch.set_printoptions(precision=8)\n",
    "\n",
    "x = HybridZonotope.construct_from_bounds(torch.tensor([[x0]]), torch.tensor([[x0]]), domain='zono', dtype=dtype)\n",
    "A = HybridZonotope.construct_from_bounds(torch.tensor([[A_rng[0]]]), torch.tensor([[A_rng[1]]]), domain='zono', dtype=dtype)\n",
    "\n",
    "lbs, ubs = [1/x.concretize()[0].item()], [1/x.concretize()[1].item()]\n",
    "\n",
    "unrolling = True\n",
    "n_unrolling = 0\n",
    "\n",
    "for i in range(50):\n",
    "    z = x\n",
    "    z = step(z, A)\n",
    "    c = check(x, A, eps).item()\n",
    "    if i>=n_unrolling and (not unrolling or c):\n",
    "        xnew = x.join(z)\n",
    "        unrolling = False\n",
    "        joined = True\n",
    "    else:\n",
    "        xnew=z\n",
    "        joined = False\n",
    "    lb, ub = xnew.concretize()\n",
    "    root = x.concretize_into_box()#.reciprocal()\n",
    "    lbs.append(1/xnew.concretize()[0].item())\n",
    "    ubs.append(1/xnew.concretize()[1].item())\n",
    "    root_new = xnew.concretize_into_box()#.reciprocal()\n",
    "    print(f\"joined: {joined}, check: {c}, root{i+1}:\", xnew.concretize_into_box().reciprocal().concretize())\n",
    "    cont, _ = root.can_contain(root_new)\n",
    "    if cont:\n",
    "        print(x.concretize())\n",
    "        print(xnew.concretize())\n",
    "        print(f\"x{i+1} in x{i} -> break\" )\n",
    "        break\n",
    "    x = xnew\n",
    "\n",
    "lb_kleene = lbs\n",
    "ub_kleene = ubs"
   ],
   "metadata": {
    "collapsed": false
   }
  },
  {
   "cell_type": "code",
   "execution_count": 10,
   "outputs": [
    {
     "data": {
      "text/plain": "<Figure size 302.4x288 with 1 Axes>",
      "image/png": "[encoded data removed]"
     },
     "metadata": {
      "needs_background": "light"
     },
     "output_type": "display_data"
    }
   ],
   "source": [
    "fig, ax = plt.subplots(figsize=(4.2,4))\n",
    "\n",
    "marker = \"d\"\n",
    "\n",
    "for i in range(len(ub_craft)):\n",
    "    if i>0:\n",
    "        plt.plot([i,i],[lb_kleene[i], ub_kleene[i]],f\"-{marker}\", color=\"r\", label='_nolegend_')\n",
    "        plt.plot([i,i],[lb_craft[i], ub_craft[i]],f\"-{marker}\", color=\"b\", label='_nolegend_')\n",
    "    else:\n",
    "        plt.plot([i,i],[lb_craft[i], ub_craft[i]],f\"-{marker}\", color=\"b\")\n",
    "        plt.plot([i,i],[lb_kleene[i], ub_kleene[i]],f\"-{marker}\", color=\"r\")\n",
    "\n",
    "plt.fill([-0.2, len(ub_craft)+0.2, len(ub_craft)+0.2, -0.2], [lb_kleene[-1],lb_kleene[-1],ub_kleene[-1],ub_kleene[-1]], color=\"r\", alpha=0.15)\n",
    "plt.fill([-0.2, len(ub_craft)+0.2, len(ub_craft)+0.2, -0.2], [lb_craft[-1],lb_craft[-1],ub_craft[-1],ub_craft[-1]], color=\"b\", alpha=0.2)\n",
    "plt.plot([-0.2, len(ub_craft)+0.2], [lb_e[-1],lb_e[-1]], color=\"k\")\n",
    "plt.plot([len(ub_craft)+0.2, -0.2], [ub_e[-1],ub_e[-1]], color=\"k\")\n",
    "\n",
    "\n",
    "plt.ylabel(r\"Iteration State for $\\sqrt{A}$\",rotation=0 , fontsize=fontsize, ha=\"left\")\n",
    "ax.yaxis.set_label_coords(0.0, 1.03)\n",
    "plt.xlabel(\"Iteration Steps\", fontsize=fontsize)\n",
    "plt.xlim([-0.2,8+0.2])\n",
    "plt.xticks(np.arange(0,10,2))\n",
    "plt.ylim([3,6])\n",
    "plt.yticks(np.arange(3.,6.01,1))\n",
    "plt.legend([\"CRAFT\", \"Kleene\", \"Exact\"], frameon=True, edgecolor=\"none\", fontsize=fontsize)\n",
    "\n",
    "ax.set_facecolor( (0.97, 0.97, 0.97) )\n",
    "ax.spines['top'].set_visible(False)\n",
    "ax.spines['right'].set_visible(False)\n",
    "ax.spines['left'].set_visible(False)\n",
    "ax.spines['bottom'].set_visible(False)\n",
    "plt.setp(ax.get_xticklabels(), fontsize=fontsize)\n",
    "plt.setp(ax.get_yticklabels(), fontsize=fontsize)\n",
    "fig.tight_layout()"
   ],
   "metadata": {
    "collapsed": false
   }
  },
  {
   "cell_type": "markdown",
   "source": [
    "## Householder's Method [16,25]"
   ],
   "metadata": {
    "collapsed": false
   }
  },
  {
   "cell_type": "code",
   "execution_count": 11,
   "outputs": [],
   "source": [
    "A_rng = [16, 25]\n",
    "x0 = 2**(-3)\n",
    "eps = 1e-6"
   ],
   "metadata": {
    "collapsed": false
   }
  },
  {
   "cell_type": "code",
   "execution_count": 12,
   "outputs": [],
   "source": [
    "A = A_rng[0]\n",
    "x = x0\n",
    "\n",
    "lb_e = [1/x0]\n",
    "\n",
    "for i in range(50):\n",
    "    x = step(x, A)\n",
    "    lb_e.append(1/x)\n",
    "\n",
    "A = A_rng[1]\n",
    "x = x0\n",
    "\n",
    "ub_e = [x0]\n",
    "\n",
    "for i in range(50):\n",
    "    x = step(x, A)\n",
    "    ub_e.append(1/x)"
   ],
   "metadata": {
    "collapsed": false
   }
  },
  {
   "cell_type": "code",
   "execution_count": 13,
   "outputs": [
    {
     "name": "stdout",
     "output_type": "stream",
     "text": [
      "Input range [16.00, 25.00]\n",
      "Init range [8.00, 8.00]\n",
      "root1 (tensor([[5.04433489]]), tensor([[5.54752207]]))\n",
      "root2 (tensor([[4.06878376]]), tensor([[5.08317471]]))\n",
      "root3 (tensor([[3.94174027]]), tensor([[5.09716415]]))\n",
      "root4 (tensor([[3.90973854]]), tensor([[5.10059547]]))\n",
      "root5 (tensor([[3.89670038]]), tensor([[5.10262728]]))\n",
      "root6 (tensor([[3.89103651]]), tensor([[5.10345602]]))\n",
      "root7 (tensor([[3.88853383]]), tensor([[5.10381985]]))\n",
      "root8 (tensor([[3.88742137]]), tensor([[5.10398197]]))\n",
      "root9 (tensor([[3.88692379]]), tensor([[5.10405350]]))\n",
      "root10 (tensor([[3.88670230]]), tensor([[5.10408497]]))\n",
      "root11 (tensor([[3.88660288]]), tensor([[5.10409975]]))\n",
      "root12 (tensor([[3.88655901]]), tensor([[5.10410643]]))\n",
      "root13 (tensor([[3.88653898]]), tensor([[5.10410929]]))\n",
      "root14 (tensor([[3.88653040]]), tensor([[5.10411024]]))\n",
      "root15 (tensor([[3.88652587]]), tensor([[5.10411072]]))\n",
      "root16 (tensor([[3.88652396]]), tensor([[5.10411072]]))\n",
      "root17 (tensor([[3.88652325]]), tensor([[5.10411167]]))\n",
      "root18 (tensor([[3.88652325]]), tensor([[5.10411167]]))\n",
      "(tensor([[0.19592049]], dtype=torch.float64), tensor([[0.25729935]], dtype=torch.float64))\n",
      "(tensor([[0.19592048]], dtype=torch.float64), tensor([[0.25729937]], dtype=torch.float64))\n",
      "x18 in x17 -> break\n"
     ]
    }
   ],
   "source": [
    "### CRAFT for Householder\n",
    "torch.set_printoptions(precision=8)\n",
    "\n",
    "x = HybridZonotope.construct_from_bounds(torch.tensor([[x0]]), torch.tensor([[x0]]), domain='zono', dtype=dtype)\n",
    "A = HybridZonotope.construct_from_bounds(torch.tensor([[A_rng[0]]]), torch.tensor([[A_rng[1]]]), domain='zono', dtype=dtype)\n",
    "\n",
    "lbs, ubs = [1/x.concretize()[0].item()], [1/x.concretize()[1].item()]\n",
    "\n",
    "print(f\"Input range [{A.concretize()[0].item():.2f}, {A.concretize()[1].item():.2f}]\")\n",
    "\n",
    "print(f\"Init range [{1/x.concretize()[0].item():.2f}, {1/x.concretize()[1].item():.2f}]\")\n",
    "\n",
    "\n",
    "for i in range(50):\n",
    "    xnew = step(x, A)\n",
    "    lb, ub = xnew.concretize()\n",
    "    root = x.concretize_into_box()#.reciprocal()\n",
    "    lbs.append(1/xnew.concretize()[0].item())\n",
    "    ubs.append(1/xnew.concretize()[1].item())\n",
    "    root_new = xnew.concretize_into_box()#.reciprocal()\n",
    "    print(f\"root{i+1}\", xnew.concretize_into_box().reciprocal().concretize())\n",
    "    cont, _ = root.can_contain(root_new)\n",
    "    if cont:\n",
    "        print(x.concretize())\n",
    "        print(xnew.concretize())\n",
    "        print(f\"x{i+1} in x{i} -> break\" )\n",
    "        break\n",
    "    x = xnew\n",
    "\n",
    "lb_craft = lbs\n",
    "ub_craft = ubs"
   ],
   "metadata": {
    "collapsed": false
   }
  },
  {
   "cell_type": "code",
   "execution_count": 14,
   "outputs": [
    {
     "name": "stdout",
     "output_type": "stream",
     "text": [
      "joined: False, check: False, root1: (tensor([[5.04433489]]), tensor([[5.54752207]]))\n",
      "joined: False, check: False, root2: (tensor([[4.06878376]]), tensor([[5.08317471]]))\n",
      "joined: True, check: True, root3: (tensor([[3.94174027]]), tensor([[5.09716415]]))\n",
      "joined: True, check: True, root4: (tensor([[3.47915196]]), tensor([[5.11439228]]))\n",
      "joined: True, check: True, root5: (tensor([[2.93389750]]), tensor([[5.21959734]]))\n",
      "joined: True, check: True, root6: (tensor([[1.96583045]]), tensor([[5.79298735]]))\n",
      "WARNING: Iteration diverged\n"
     ]
    }
   ],
   "source": [
    "### Kleene for Householder\n",
    "\n",
    "torch.set_printoptions(precision=8)\n",
    "\n",
    "x = HybridZonotope.construct_from_bounds(torch.tensor([[x0]]), torch.tensor([[x0]]), domain='zono', dtype=dtype)\n",
    "A = HybridZonotope.construct_from_bounds(torch.tensor([[A_rng[0]]]), torch.tensor([[A_rng[1]]]), domain='zono', dtype=dtype)\n",
    "\n",
    "lbs, ubs = [1/x.concretize()[0].item()], [1/x.concretize()[1].item()]\n",
    "\n",
    "unrolling = True\n",
    "n_unrolling = 0\n",
    "\n",
    "for i in range(50):\n",
    "    z = x\n",
    "    z = step(z, A)\n",
    "    c = check(x, A, eps).item()\n",
    "    if i>=n_unrolling and (not unrolling or c):\n",
    "        xnew = x.join(z)\n",
    "        unrolling = False\n",
    "        joined = True\n",
    "    else:\n",
    "        xnew=z\n",
    "        joined = False\n",
    "    lb, ub = xnew.concretize()\n",
    "    if (lb*ub < 0).any():\n",
    "        print(\"WARNING: Iteration diverged\")\n",
    "        break\n",
    "    root = x.concretize_into_box()#.reciprocal()\n",
    "    lbs.append(1/xnew.concretize()[0].item())\n",
    "    ubs.append(1/xnew.concretize()[1].item())\n",
    "    root_new = xnew.concretize_into_box()#.reciprocal()\n",
    "    print(f\"joined: {joined}, check: {c}, root{i+1}:\", xnew.concretize_into_box().reciprocal().concretize())\n",
    "    cont, _ = root.can_contain(root_new)\n",
    "    if cont:\n",
    "        print(x.concretize())\n",
    "        print(xnew.concretize())\n",
    "        print(f\"x{i+1} in x{i} -> break\" )\n",
    "        break\n",
    "    x = xnew\n",
    "    lb_kleene = lbs\n",
    "    ub_kleene = ubs"
   ],
   "metadata": {
    "collapsed": false
   }
  },
  {
   "cell_type": "code",
   "execution_count": 15,
   "outputs": [
    {
     "data": {
      "text/plain": "<Figure size 302.4x288 with 1 Axes>",
      "image/png": "[encoded data removed]"
     },
     "metadata": {
      "needs_background": "light"
     },
     "output_type": "display_data"
    }
   ],
   "source": [
    "fig, ax = plt.subplots(figsize=(4.2,4))\n",
    "\n",
    "marker = \"d\"\n",
    "\n",
    "for i in range(min(len(ub_craft),len(ub_kleene))):\n",
    "    if i>0:\n",
    "        plt.plot([i,i],[lb_kleene[i], ub_kleene[i]],f\"-{marker}\", color=\"r\", label='_nolegend_')\n",
    "        plt.plot([i,i],[lb_craft[i], ub_craft[i]],f\"-{marker}\", color=\"b\", label='_nolegend_')\n",
    "    else:\n",
    "        plt.plot([i,i],[lb_craft[i], ub_craft[i]],f\"-{marker}\", color=\"b\")\n",
    "        plt.plot([i,i],[lb_kleene[i], ub_kleene[i]],f\"-{marker}\", color=\"r\")\n",
    "\n",
    "# plt.fill([-0.2, len(ub_craft)+0.2, len(ub_craft)+0.2, -0.2], [lb_kleene[-1],lb_kleene[-1],ub_kleene[-1],ub_kleene[-1]], color=\"r\", alpha=0.15)\n",
    "plt.fill([-0.2, len(ub_craft)+0.2, len(ub_craft)+0.2, -0.2], [lb_craft[-1],lb_craft[-1],ub_craft[-1],ub_craft[-1]], color=\"b\", alpha=0.2)\n",
    "plt.plot([-0.2, len(ub_craft)+0.2], [lb_e[-1],lb_e[-1]], color=\"k\")\n",
    "plt.plot([len(ub_craft)+0.2, -0.2], [ub_e[-1],ub_e[-1]], color=\"k\")\n",
    "\n",
    "\n",
    "plt.ylabel(r\"Iteration State for $\\sqrt{A}$\",rotation=0 , fontsize=fontsize, ha=\"left\")\n",
    "ax.yaxis.set_label_coords(0.0, 1.03)\n",
    "plt.xlabel(\"Iteration Steps\", fontsize=fontsize)\n",
    "plt.xlim([-0.2,6+0.2])\n",
    "plt.xticks(np.arange(0,6.1,2))\n",
    "plt.ylim([2,10])\n",
    "plt.yticks(np.arange(2.,10.01,2))\n",
    "plt.legend([\"CRAFT\", \"Kleene\", \"Exact\"], frameon=True, edgecolor=\"none\", fontsize=fontsize)\n",
    "\n",
    "ax.set_facecolor( (0.97, 0.97, 0.97) )\n",
    "ax.spines['top'].set_visible(False)\n",
    "ax.spines['right'].set_visible(False)\n",
    "ax.spines['left'].set_visible(False)\n",
    "ax.spines['bottom'].set_visible(False)\n",
    "plt.setp(ax.get_xticklabels(), fontsize=fontsize)\n",
    "plt.setp(ax.get_yticklabels(), fontsize=fontsize)\n",
    "fig.tight_layout()"
   ],
   "metadata": {
    "collapsed": false
   }
  },
  {
   "cell_type": "markdown",
   "source": [
    "## Newton method"
   ],
   "metadata": {
    "collapsed": false
   }
  },
  {
   "cell_type": "code",
   "execution_count": 16,
   "outputs": [],
   "source": [
    "def step(x, A):\n",
    "    x = x * (- 0.5 * A * x*x + 1.5)\n",
    "    return x"
   ],
   "metadata": {
    "collapsed": false
   }
  },
  {
   "cell_type": "code",
   "execution_count": 17,
   "outputs": [],
   "source": [
    "A_rng = [16, 20]\n",
    "x0 = 2**(-3)\n",
    "eps = 1e-6"
   ],
   "metadata": {
    "collapsed": false
   }
  },
  {
   "cell_type": "code",
   "execution_count": 18,
   "outputs": [],
   "source": [
    "A = A_rng[0]\n",
    "x = x0\n",
    "\n",
    "lb_e = [1/x0]\n",
    "\n",
    "for i in range(50):\n",
    "    x = step(x, A)\n",
    "    lb_e.append(1/x)\n",
    "\n",
    "A = A_rng[1]\n",
    "x = x0\n",
    "\n",
    "ub_e = [x0]\n",
    "\n",
    "for i in range(50):\n",
    "    x = step(x, A)\n",
    "    ub_e.append(1/x)"
   ],
   "metadata": {
    "collapsed": false
   }
  },
  {
   "cell_type": "code",
   "execution_count": 19,
   "outputs": [
    {
     "name": "stdout",
     "output_type": "stream",
     "text": [
      "Input range [16.00, 20.00]\n",
      "Init range [8.00, 8.00]\n",
      "root1 (tensor([[5.81818199]]), tensor([[5.95348835]]))\n",
      "root2 (tensor([[4.60418701]]), tensor([[4.89206886]]))\n",
      "root3 (tensor([[4.10120964]]), tensor([[4.53313351]]))\n",
      "root4 (tensor([[4.00281715]]), tensor([[4.49335670]]))\n",
      "root5 (tensor([[3.99832678]]), tensor([[4.49335241]]))\n",
      "root6 (tensor([[3.99812579]]), tensor([[4.49340343]]))\n",
      "root7 (tensor([[3.99810195]]), tensor([[4.49340630]]))\n",
      "root8 (tensor([[3.99809933]]), tensor([[4.49340630]]))\n",
      "root9 (tensor([[3.99809957]]), tensor([[4.49340725]]))\n",
      "root10 (tensor([[3.99809957]]), tensor([[4.49340725]]))\n",
      "(tensor([[0.22254830]], dtype=torch.float64), tensor([[0.25011887]], dtype=torch.float64))\n",
      "(tensor([[0.22254830]], dtype=torch.float64), tensor([[0.25011887]], dtype=torch.float64))\n",
      "x10 in x9 -> break\n"
     ]
    }
   ],
   "source": [
    "### CRAFT for Householder\n",
    "torch.set_printoptions(precision=8)\n",
    "\n",
    "x = HybridZonotope.construct_from_bounds(torch.tensor([[x0]]), torch.tensor([[x0]]), domain='zono', dtype=dtype)\n",
    "A = HybridZonotope.construct_from_bounds(torch.tensor([[A_rng[0]]]), torch.tensor([[A_rng[1]]]), domain='zono', dtype=dtype)\n",
    "\n",
    "lbs, ubs = [1/x.concretize()[0].item()], [1/x.concretize()[1].item()]\n",
    "\n",
    "print(f\"Input range [{A.concretize()[0].item():.2f}, {A.concretize()[1].item():.2f}]\")\n",
    "\n",
    "print(f\"Init range [{1/x.concretize()[0].item():.2f}, {1/x.concretize()[1].item():.2f}]\")\n",
    "\n",
    "\n",
    "for i in range(50):\n",
    "    xnew = step(x, A)\n",
    "    lb, ub = xnew.concretize()\n",
    "    root = x.concretize_into_box()#.reciprocal()\n",
    "    lbs.append(1/xnew.concretize()[0].item())\n",
    "    ubs.append(1/xnew.concretize()[1].item())\n",
    "    root_new = xnew.concretize_into_box()#.reciprocal()\n",
    "    print(f\"root{i+1}\", xnew.concretize_into_box().reciprocal().concretize())\n",
    "    cont, _ = root.can_contain(root_new)\n",
    "    if cont:\n",
    "        print(x.concretize())\n",
    "        print(xnew.concretize())\n",
    "        print(f\"x{i+1} in x{i} -> break\" )\n",
    "        break\n",
    "    x = xnew\n",
    "\n",
    "lb_craft = lbs\n",
    "ub_craft = ubs"
   ],
   "metadata": {
    "collapsed": false
   }
  },
  {
   "cell_type": "code",
   "execution_count": 20,
   "outputs": [
    {
     "data": {
      "text/plain": "<Figure size 302.4x288 with 1 Axes>",
      "image/png": "[encoded data removed]"
     },
     "metadata": {
      "needs_background": "light"
     },
     "output_type": "display_data"
    }
   ],
   "source": [
    "fig, ax = plt.subplots(figsize=(4.2,4))\n",
    "\n",
    "marker = \"d\"\n",
    "\n",
    "for i in range(len(ub_craft)):\n",
    "    if i>0:\n",
    "        plt.plot([i,i],[lb_craft[i], ub_craft[i]],f\"-{marker}\", color=\"b\", label='_nolegend_')\n",
    "    else:\n",
    "        plt.plot([i,i],[lb_craft[i], ub_craft[i]],f\"-{marker}\", color=\"b\")\n",
    "\n",
    "plt.fill([-0.2, len(ub_craft)+0.2, len(ub_craft)+0.2, -0.2], [lb_craft[-1],lb_craft[-1],ub_craft[-1],ub_craft[-1]], color=\"b\", alpha=0.2)\n",
    "plt.plot([-0.2, len(ub_craft)+0.2], [lb_e[-1],lb_e[-1]], color=\"k\")\n",
    "plt.plot([len(ub_craft)+0.2, -0.2], [ub_e[-1],ub_e[-1]], color=\"k\")\n",
    "\n",
    "\n",
    "plt.ylabel(r\"Iteration State for $\\sqrt{A}$\",rotation=0 , fontsize=fontsize, ha=\"left\")\n",
    "ax.yaxis.set_label_coords(0.0, 1.03)\n",
    "plt.xlabel(\"Iteration Steps\", fontsize=fontsize)\n",
    "plt.xlim([-0.2,8+0.2])\n",
    "plt.xticks(np.arange(0,10,2))\n",
    "plt.ylim([3,6])\n",
    "plt.yticks(np.arange(3.,6.01,1))\n",
    "plt.legend([\"CRAFT\", \"Exact\"], frameon=True, edgecolor=\"none\", fontsize=fontsize)\n",
    "\n",
    "ax.set_facecolor( (0.97, 0.97, 0.97) )\n",
    "ax.spines['top'].set_visible(False)\n",
    "ax.spines['right'].set_visible(False)\n",
    "ax.spines['left'].set_visible(False)\n",
    "ax.spines['bottom'].set_visible(False)\n",
    "plt.setp(ax.get_xticklabels(), fontsize=fontsize)\n",
    "plt.setp(ax.get_yticklabels(), fontsize=fontsize)\n",
    "fig.tight_layout()"
   ],
   "metadata": {
    "collapsed": false
   }
  }
 ],
 "metadata": {
  "kernelspec": {
   "name": "jn",
   "language": "python",
   "display_name": "JN"
  },
  "language_info": {
   "codemirror_mode": {
    "name": "ipython",
    "version": 3
   },
   "file_extension": ".py",
   "mimetype": "text/x-python",
   "name": "python",
   "nbconvert_exporter": "python",
   "pygments_lexer": "ipython3",
   "version": "3.9.7"
  }
 },
 "nbformat": 4,
 "nbformat_minor": 4
}
