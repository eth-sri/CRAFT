{
 "cells": [
  {
   "cell_type": "code",
   "execution_count": 1,
   "metadata": {},
   "outputs": [],
   "source": [
    "import pickle as pkl\n",
    "import matplotlib.pyplot as plt\n",
    "from matplotlib import rcParams\n",
    "import numpy as np\n",
    "import torch\n",
    "import os\n",
    "import h5py\n",
    "import re"
   ]
  },
  {
   "cell_type": "code",
   "execution_count": 2,
   "metadata": {},
   "outputs": [],
   "source": [
    "# font = {'family' : 'normal',\n",
    "#         'size'   : 14}\n",
    "rcParams['pdf.fonttype'] = 42\n",
    "rcParams['ps.fonttype'] = 42\n",
    "rcParams['font.family'] = 'serif'\n",
    "rcParams['font.sans-serif'] = ['Palatio']\n",
    "rcParams['text.usetex'] = True\n",
    "\n",
    "fontsize = 18 #adjust\n",
    "\n",
    "#plt.rc('font', **font)\n",
    "figure_path = \"./figures/\"\n",
    "\n",
    "blue = (31,119,180)\n",
    "blue = np.array([x/255 for x in blue])\n",
    "\n",
    "orange = (255,127,14)\n",
    "orange = np.array([x/255 for x in orange])\n",
    "\n",
    "green = (44,160,44)\n",
    "green = np.array([x/255 for x in green])\n",
    "\n",
    "red = (214,39,40)\n",
    "red = np.array([x/255 for x in red])\n",
    "\n",
    "purple = (148,103,189)\n",
    "purple = np.array([x/255 for x in purple])"
   ]
  },
  {
   "cell_type": "markdown",
   "source": [
    "## HCAS whole input domain"
   ],
   "metadata": {
    "collapsed": false
   }
  },
  {
   "cell_type": "code",
   "execution_count": 3,
   "outputs": [],
   "source": [
    "logs_dir = \"./logs_precomputed\"\n",
    "setting = \"HCAS_p0_t0_100_m20_pr_035_wid-1_jp1_slice_global\"\n",
    "path = os.path.join(logs_dir,setting+\"_ranges.pkl\")\n",
    "path_log = os.path.join(logs_dir,setting+\".txt\")\n",
    "\n",
    "cert_ranges = pkl.load(open(path, \"rb\"))"
   ],
   "metadata": {
    "collapsed": false
   }
  },
  {
   "cell_type": "code",
   "execution_count": 4,
   "outputs": [],
   "source": [
    "# Slice ranges\n",
    "x_min = -10000\n",
    "x_max = 30000\n",
    "y_min = -10000\n",
    "y_max = 30000\n",
    "psi_min = -180\n",
    "psi_max = -0"
   ],
   "metadata": {
    "collapsed": false
   }
  },
  {
   "cell_type": "code",
   "execution_count": 5,
   "metadata": {},
   "outputs": [
    {
     "name": "stdout",
     "output_type": "stream",
     "text": [
      "The certified portion of the considered volume is 0.8283\n"
     ]
    }
   ],
   "source": [
    "tot_volume = (x_max-x_min)/112000*(y_max-y_min)/112000*(psi_max-psi_min)/360\n",
    "cert_volume=0\n",
    "for lb, ub, label in cert_ranges:\n",
    "    volume = (ub[0]-lb[0])*(ub[1]-lb[1])*(ub[2]-lb[2])/tot_volume\n",
    "    cert_volume += volume\n",
    "print(f\"The certified portion of the considered volume is {cert_volume:.4f}\")"
   ]
  },
  {
   "cell_type": "code",
   "execution_count": 6,
   "outputs": [
    {
     "name": "stdout",
     "output_type": "stream",
     "text": [
      "Certification took a total of 15.4878 hours\n"
     ]
    }
   ],
   "source": [
    "with open(path_log,\"r\") as f:\n",
    "    lines = f.readlines()\n",
    "\n",
    "times = []\n",
    "for line in lines:\n",
    "    if \"time\" in line:\n",
    "        s = float(re.match(\".*time: ([0-9,\\.]*)$\", line).group(1))\n",
    "        times.append(s)\n",
    "\n",
    "print(f\"Certification took a total of {sum(times)/3600.:.4f} hours\")"
   ],
   "metadata": {
    "collapsed": false
   }
  },
  {
   "cell_type": "markdown",
   "source": [
    "## HCAS visualization slice"
   ],
   "metadata": {
    "collapsed": false
   }
  },
  {
   "cell_type": "code",
   "execution_count": 7,
   "outputs": [],
   "source": [
    "logs_dir = \"./logs\"\n",
    "setting = \"HCAS_p0_t0_100_m20_pr_035_wid10_jp1_slice_long_superfine\"\n",
    "path = os.path.join(logs_dir,setting+\"_ranges.pkl\")\n",
    "path_log = os.path.join(logs_dir,setting+\".txt\")\n",
    "\n",
    "cert_ranges = pkl.load(open(path, \"rb\"))"
   ],
   "metadata": {
    "collapsed": false
   }
  },
  {
   "cell_type": "code",
   "execution_count": 8,
   "outputs": [],
   "source": [
    "# Slice ranges\n",
    "x_min = -5000\n",
    "x_max = 25000\n",
    "y_min = -10000\n",
    "y_max = 20000\n",
    "psi_min = -90.5\n",
    "psi_max = -89.5"
   ],
   "metadata": {
    "collapsed": false
   }
  },
  {
   "cell_type": "code",
   "execution_count": 9,
   "outputs": [
    {
     "name": "stdout",
     "output_type": "stream",
     "text": [
      "The certified portion of the considered volume is 0.9852\n"
     ]
    }
   ],
   "source": [
    "tot_volume = (x_max-x_min)/112000*(y_max-y_min)/112000*(psi_max-psi_min)/360\n",
    "cert_volume=0\n",
    "for lb, ub, label in cert_ranges:\n",
    "    volume = (ub[0]-lb[0])*(ub[1]-lb[1])*(ub[2]-lb[2])/tot_volume\n",
    "    cert_volume += volume\n",
    "print(f\"The certified portion of the considered volume is {cert_volume:.4f}\")"
   ],
   "metadata": {
    "collapsed": false
   }
  },
  {
   "cell_type": "code",
   "execution_count": 10,
   "outputs": [
    {
     "name": "stdout",
     "output_type": "stream",
     "text": [
      "Certification took a total of 29.6575 hours\n"
     ]
    }
   ],
   "source": [
    "with open(path_log,\"r\") as f:\n",
    "    lines = f.readlines()\n",
    "\n",
    "times = []\n",
    "for line in lines:\n",
    "    if \"time\" in line:\n",
    "        s = float(re.match(\".*time: ([0-9,\\.]*)$\", line).group(1))\n",
    "        times.append(s)\n",
    "\n",
    "print(f\"Certification took a total of {sum(times)/3600.:.4f} hours\")"
   ],
   "metadata": {
    "collapsed": false
   }
  },
  {
   "cell_type": "code",
   "execution_count": 11,
   "outputs": [
    {
     "name": "stdout",
     "output_type": "stream",
     "text": [
      "Loading Data for HCAS, pra 00, Network Version 6\n"
     ]
    }
   ],
   "source": [
    "ver = 6  # Neural network version\n",
    "table_ver = 6  # Table Version\n",
    "trainingDataFiles = \"./TrainingData/HCAS_rect_TrainingData_v%d_pra%d_tau%02d.h5\"  # File format for training data\n",
    "\n",
    "pra = 0\n",
    "tau = 0\n",
    "\n",
    "print(\"Loading Data for HCAS, pra %02d, Network Version %d\" % (pra, ver))\n",
    "f = h5py.File(trainingDataFiles % (table_ver, pra, tau), 'r')\n",
    "X_train = np.array(f['X'])\n",
    "X_train = X_train - X_train.min(0)\n",
    "assert (X_train.max(0)==1).all()\n",
    "Q = np.array(f['y'])\n",
    "means = np.array(f['means'])\n",
    "ranges = np.array(f['ranges'])[:3]\n",
    "mins = np.array(f['min_inputs'])\n",
    "maxes = np.array(f['max_inputs'])\n",
    "widths = maxes-mins\n",
    "\n",
    "X_train = X_train *(maxes-mins) + mins\n",
    "z = Q.argmax(1)"
   ],
   "metadata": {
    "collapsed": false
   }
  },
  {
   "cell_type": "code",
   "execution_count": 12,
   "outputs": [],
   "source": [
    "idxs = (np.abs(X_train[:,2]+np.pi/2)<0.001).__and__(X_train[:,0]>=x_min).__and__(X_train[:,0]<=x_max).__and__(X_train[:,1]<=y_max).__and__(X_train[:,1]>=y_min)\n",
    "\n",
    "X_filtered = X_train[idxs]\n",
    "z_filtered = z[idxs]"
   ],
   "metadata": {
    "collapsed": false
   }
  },
  {
   "cell_type": "code",
   "execution_count": 13,
   "outputs": [
    {
     "data": {
      "text/plain": "(-0.8, 16.8, -0.05, 1.05)"
     },
     "execution_count": 13,
     "metadata": {},
     "output_type": "execute_result"
    },
    {
     "data": {
      "text/plain": "<Figure size 360x72 with 1 Axes>",
      "image/png": "[encoded data removed]"
     },
     "metadata": {
      "needs_background": "light"
     },
     "output_type": "display_data"
    }
   ],
   "source": [
    "# Plot legend\n",
    "fig, ax = plt.subplots(figsize=(5,1))\n",
    "for label in range(5):\n",
    "    if label == 0:  # COC clear of contact\n",
    "        c = \"lightgray\"\n",
    "    elif label == 1:  # Weak Left\n",
    "        c = 1-(1-green)*0.5\n",
    "    elif label == 2:  # Strong Left\n",
    "        c = green*0.8\n",
    "    elif label == 3:  # Weak Right\n",
    "        c = 1-(1-blue)*0.5\n",
    "    elif label == 4:  # Strong Right\n",
    "        c = blue*0.8\n",
    "    i=label\n",
    "    ax.fill([3.5*i,3.5*i,3.5*i+2,3.5*i+2], [1,0,0,1], color=c)\n",
    "ax.set_aspect('equal')\n",
    "ax.spines['top'].set_visible(False)\n",
    "ax.spines['right'].set_visible(False)\n",
    "ax.spines['left'].set_visible(False)\n",
    "ax.spines['bottom'].set_visible(False)\n",
    "plt.axis('off')\n",
    "\n",
    "# fig.savefig(os.path.join(figure_path,\"HCAS_leg_slice.eps\"), bbox_inches=\"tight\")\n",
    "# fig.savefig(os.path.join(figure_path,\"HCAS_leg_slice.png\"), bbox_inches=\"tight\")"
   ],
   "metadata": {
    "collapsed": false
   }
  },
  {
   "cell_type": "code",
   "execution_count": 14,
   "metadata": {
    "scrolled": false
   },
   "outputs": [
    {
     "data": {
      "text/plain": "<Figure size 360x360 with 1 Axes>",
      "image/png": "[encoded data removed]"
     },
     "metadata": {
      "needs_background": "light"
     },
     "output_type": "display_data"
    }
   ],
   "source": [
    "# Plot prediction\n",
    "\n",
    "fig, ax = plt.subplots(figsize=(5,5))\n",
    "\n",
    "for lb, ub, label in cert_ranges:\n",
    "    x = [lb[0], lb[0], ub[0], ub[0], ]\n",
    "    y = [lb[1], ub[1], ub[1], lb[1], ]\n",
    "\n",
    "    if label == 0:  # COC clear of contact\n",
    "        c = \"lightgray\"\n",
    "    elif label == 1:  # Weak Left\n",
    "        c = 1-(1-green)*0.5\n",
    "    elif label == 3:  # Strong Left\n",
    "        c = green*0.8\n",
    "    elif label == 2:  # Weak Right\n",
    "        c = 1-(1-blue)*0.5\n",
    "    elif label == 4:  # Strong Right\n",
    "        c = blue*0.8\n",
    "    ax.fill(x, y, color=c)\n",
    "    \n",
    "ax.set_xlim([(x_min+56000)/112000,(x_max+56000)/112000])\n",
    "plt.ylabel(r\"$y$ [kft]\",rotation=0 , fontsize=fontsize,ha=\"left\")\n",
    "ax.yaxis.set_label_coords(0.0, 1.03)\n",
    "plt.xlabel(r\"$x$ [kft]\", fontsize=fontsize)\n",
    "plt.ylim([(y_min+56000)/112000,(y_max+56000)/112000])\n",
    "plt.yticks(np.arange((y_min+56000)/112000,(y_max+56000)/112000+0.001,5000/112000),[f\"{x:.0f}\" for x in np.arange(y_min/1000,y_max/1000+0.001,5)])\n",
    "plt.xticks(np.arange((x_min+56000)/112000,(x_max+56000)/112000+0.001,5000/112000),[f\"{x:.0f}\" for x in np.arange(x_min/1000,x_max/1000+0.001,5)])\n",
    "\n",
    "ax.spines['top'].set_visible(False)\n",
    "ax.spines['right'].set_visible(False)\n",
    "ax.spines['left'].set_visible(False)\n",
    "ax.spines['bottom'].set_visible(False)\n",
    "plt.setp(ax.get_xticklabels(), fontsize=fontsize)\n",
    "plt.setp(ax.get_yticklabels(), fontsize=fontsize)\n",
    "fig.tight_layout()\n",
    "ax.set_aspect('equal', 'box')\n",
    "\n",
    "\n",
    "# fig.savefig(os.path.join(figure_path,\"HCAS_cert_slice_nb.eps\"), bbox_inches=\"tight\")\n",
    "# fig.savefig(os.path.join(figure_path,\"HCAS_cert_slice_nb.png\"), bbox_inches=\"tight\")"
   ]
  },
  {
   "cell_type": "markdown",
   "source": [],
   "metadata": {
    "collapsed": false
   }
  },
  {
   "cell_type": "code",
   "execution_count": 15,
   "metadata": {
    "scrolled": true
   },
   "outputs": [
    {
     "data": {
      "text/plain": "<Figure size 360x360 with 1 Axes>",
      "image/png": "[encoded data removed]"
     },
     "metadata": {
      "needs_background": "light"
     },
     "output_type": "display_data"
    }
   ],
   "source": [
    "# Plot targets\n",
    "\n",
    "fig, ax = plt.subplots(figsize=(5,5))\n",
    "\n",
    "for label in range(5):\n",
    "    if label == 0:  # COC clear of contact\n",
    "        c = \"lightgray\"\n",
    "    elif label == 1:  # Weak Left\n",
    "        c = 1-(1-green)*0.5\n",
    "    elif label == 3:  # Strong Left\n",
    "        c = green*0.8\n",
    "    elif label == 2:  # Weak Right\n",
    "        c = 1-(1-blue)*0.5\n",
    "    elif label == 4:  # Strong Right\n",
    "        c = blue*0.8\n",
    "    ax.scatter(X_filtered[z_filtered == label][:,0], X_filtered[z_filtered == label][:,1], color=c, s=50)\n",
    "\n",
    "ax.set_xlim([(x_min),(x_max)])\n",
    "plt.ylabel(r\"$y$ [kft]\",rotation=0 , fontsize=fontsize,ha=\"left\")\n",
    "ax.yaxis.set_label_coords(0.0, 1.03)\n",
    "plt.xlabel(r\"$x$ [kft]\", fontsize=fontsize)\n",
    "plt.ylim([(y_min),(y_max)])\n",
    "plt.yticks(np.arange((y_min),(y_max)+0.001,5000),[f\"{x:.0f}\" for x in np.arange(y_min/1000,y_max/1000+0.001,5)])\n",
    "plt.xticks(np.arange((x_min),(x_max)+0.001,5000),[f\"{x:.0f}\" for x in np.arange(x_min/1000,x_max/1000+0.001,5)])\n",
    "\n",
    "ax.set_facecolor( (0.98, 0.98, 0.98) )\n",
    "ax.spines['top'].set_visible(False)\n",
    "ax.spines['right'].set_visible(False)\n",
    "ax.spines['left'].set_visible(False)\n",
    "ax.spines['bottom'].set_visible(False)\n",
    "plt.setp(ax.get_xticklabels(), fontsize=fontsize)\n",
    "plt.setp(ax.get_yticklabels(), fontsize=fontsize)\n",
    "fig.tight_layout()\n",
    "ax.set_aspect('equal', 'box')\n",
    "\n",
    "\n",
    "# fig.savefig(os.path.join(figure_path,\"HCAS_tab_slice_gb.eps\"), bbox_inches=\"tight\")\n",
    "# fig.savefig(os.path.join(figure_path,\"HCAS_tab_slice_gb.png\"), bbox_inches=\"tight\")"
   ]
  }
 ],
 "metadata": {
  "kernelspec": {
   "display_name": "Python 3",
   "language": "python",
   "name": "python3"
  },
  "language_info": {
   "codemirror_mode": {
    "name": "ipython",
    "version": 3
   },
   "file_extension": ".py",
   "mimetype": "text/x-python",
   "name": "python",
   "nbconvert_exporter": "python",
   "pygments_lexer": "ipython3",
   "version": "3.8.5"
  }
 },
 "nbformat": 4,
 "nbformat_minor": 4
}
